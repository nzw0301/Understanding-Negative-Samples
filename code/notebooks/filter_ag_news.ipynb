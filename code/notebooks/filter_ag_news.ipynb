{
 "cells": [
  {
   "cell_type": "markdown",
   "metadata": {},
   "source": [
    "This notebook extracts best performed self-supervised weights by #negs, seed, and augmentation type.\n",
    "The extracted results outputs to the `scripts` dir."
   ]
  },
  {
   "cell_type": "code",
   "execution_count": 1,
   "metadata": {},
   "outputs": [],
   "source": [
    "import json\n",
    "import re\n",
    "from pathlib import Path\n",
    "import pathlib\n",
    "\n",
    "import matplotlib\n",
    "import matplotlib.pyplot as plt\n",
    "import numpy as np\n",
    "import pandas as pd\n",
    "import seaborn as sns\n",
    "import tabulate\n",
    "import yaml\n",
    "\n",
    "from utils import get_weight_path_in_current_system, filter_ag\n",
    "\n",
    "\n",
    "%matplotlib inline\n",
    "sns.set_context(\"paper\", font_scale=2.0)\n",
    "matplotlib.rcParams[\"pdf.fonttype\"] = 42\n",
    "matplotlib.rcParams[\"text.usetex\"] = True\n"
   ]
  },
  {
   "cell_type": "code",
   "execution_count": 2,
   "metadata": {},
   "outputs": [],
   "source": [
    "ag_targets = filter_ag()\n",
    "assert len(ag_targets) == 36\n",
    "targets_by_seeds = {7: [], 11: [], 13: []}\n",
    "\n",
    "for i in ag_targets:\n",
    "    if \"seed-7\" in i:\n",
    "        targets_by_seeds[7].append(i)\n",
    "    elif \"seed-11\" in i:\n",
    "        targets_by_seeds[11].append(i)\n",
    "    else:\n",
    "        targets_by_seeds[13].append(i)\n",
    "\n",
    "\n",
    "for seed, v in targets_by_seeds.items():\n",
    "    fname = \"../../scripts/ag_news/eval/seed-{}/best_weights.txt\".format(seed)\n",
    "    with open(fname, \"w\") as f:\n",
    "        for vv in sorted(v):\n",
    "            f.write(\"{}\\n\".format(vv))\n"
   ]
  },
  {
   "cell_type": "code",
   "execution_count": null,
   "metadata": {},
   "outputs": [],
   "source": []
  }
 ],
 "metadata": {
  "@webio": {
   "lastCommId": null,
   "lastKernelId": null
  },
  "kernelspec": {
   "display_name": "Python 3 (ipykernel)",
   "language": "python",
   "name": "python3"
  },
  "language_info": {
   "codemirror_mode": {
    "name": "ipython",
    "version": 3
   },
   "file_extension": ".py",
   "mimetype": "text/x-python",
   "name": "python",
   "nbconvert_exporter": "python",
   "pygments_lexer": "ipython3",
   "version": "3.8.11"
  }
 },
 "nbformat": 4,
 "nbformat_minor": 4
}
