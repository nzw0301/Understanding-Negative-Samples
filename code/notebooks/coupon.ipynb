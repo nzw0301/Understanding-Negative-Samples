{
 "cells": [
  {
   "cell_type": "code",
   "execution_count": 1,
   "metadata": {},
   "outputs": [],
   "source": [
    "import json\n",
    "\n",
    "import numpy as np\n",
    "import matplotlib.pyplot as plt\n",
    "from scipy.integrate import quad\n",
    "from scipy.special import comb\n",
    "from tabulate import tabulate\n",
    "\n",
    "%matplotlib inline"
   ]
  },
  {
   "cell_type": "markdown",
   "metadata": {},
   "source": [
    "## Expected numbers on Table 3."
   ]
  },
  {
   "cell_type": "code",
   "execution_count": 2,
   "metadata": {},
   "outputs": [],
   "source": [
    "rows = []\n",
    "datasets = {\n",
    "    'Binary': 2,\n",
    "    'AG news': 4,\n",
    "    'CIFAR10': 10,\n",
    "    'CIFAR100': 100,\n",
    "    'Wiki3029': 3029,    \n",
    "}\n",
    "\n",
    "\n",
    "def expectations(C: int) -> float:\n",
    "    \"\"\"\n",
    "    C is the number of latent classes.\n",
    "    \"\"\"\n",
    "    e = 0.\n",
    "\n",
    "    for k in range(1, C + 1):\n",
    "        e += C / k\n",
    "    return e\n",
    "\n",
    "\n",
    "for dataset_name, C in datasets.items():\n",
    "    e = expectations(C)\n",
    "\n",
    "    rows.append((dataset_name, C, np.ceil(e)))"
   ]
  },
  {
   "cell_type": "code",
   "execution_count": 3,
   "metadata": {},
   "outputs": [],
   "source": [
    "# ImageNet is non-uniform label distribution on the training dataset\n",
    "\n",
    "data = json.load(open(\"./imagenet_count.json\"))\n",
    "counts = np.array(list(data.values()))\n",
    "total_num = np.sum(counts)\n",
    "prob = counts / total_num\n",
    "\n",
    "\n",
    "def integrand(t: float, prob: np.ndarray) -> float:\n",
    "    return 1. - np.prod(1 - np.exp(-prob * t))\n",
    "\n",
    "\n",
    "rows.append((\"ImageNet\", len(prob), np.ceil(quad(integrand, 0, np.inf, args=(prob))[0])))\n"
   ]
  },
  {
   "cell_type": "code",
   "execution_count": 4,
   "metadata": {},
   "outputs": [
    {
     "name": "stdout",
     "output_type": "stream",
     "text": [
      "Dataset      \\# classes    \\mathbb{E}[K+1]\n",
      "---------  ------------  -----------------\n",
      "Binary                2                  3\n",
      "AG news               4                  9\n",
      "CIFAR10              10                 30\n",
      "CIFAR100            100                519\n",
      "Wiki3029           3029              26030\n",
      "ImageNet           1000               7709\n"
     ]
    }
   ],
   "source": [
    "print(tabulate(rows, headers=[\"Dataset\", \"\\# classes\", \"\\mathbb{E}[K+1]\"]))"
   ]
  },
  {
   "cell_type": "markdown",
   "metadata": {},
   "source": [
    "## Probability $\\upsilon$"
   ]
  },
  {
   "cell_type": "code",
   "execution_count": 5,
   "metadata": {
    "pycharm": {
     "name": "#%%\n"
    }
   },
   "outputs": [],
   "source": [
    "def prob(C, N):\n",
    "    \"\"\"\n",
    "    C: the number of latent class \n",
    "    N: the number of samples to draw \n",
    "    \"\"\"\n",
    "\n",
    "    theoretical = []\n",
    "    for n in range(C, N + 1):\n",
    "        p = 0.\n",
    "        for m in range(C - 1):\n",
    "            p += comb(C - 1, m) * ((-1) ** m) * np.exp((n - 1) * np.log(1. - (m + 1) / C))\n",
    "\n",
    "        theoretical.append((n, max(p, 0.)))\n",
    "\n",
    "    return np.array(theoretical)\n"
   ]
  },
  {
   "cell_type": "code",
   "execution_count": 6,
   "metadata": {},
   "outputs": [
    {
     "name": "stdout",
     "output_type": "stream",
     "text": [
      " 32 0.6909756\n",
      " 63 0.9869351\n",
      "128 0.9999861\n",
      "256 1.0000000\n",
      "512 1.0000000\n"
     ]
    }
   ],
   "source": [
    "# example of CIFAR-10\n",
    "\n",
    "C = 10\n",
    "for N in [32, 63, 128, 256, 512]:\n",
    "    p = np.sum(prob(C, N).T[1])\n",
    "    print(\"{:3d} {:.7f}\".format(N, p))\n"
   ]
  },
  {
   "cell_type": "code",
   "execution_count": 7,
   "metadata": {},
   "outputs": [
    {
     "name": "stdout",
     "output_type": "stream",
     "text": [
      " 128 0.0004517171443332115\n",
      " 256 0.0005750103110269027\n",
      " 384 0.10845377001311465\n",
      " 512 0.5531327628081966\n",
      " 640 0.8510308810769567\n",
      " 768 0.956899070354311\n",
      " 896 0.9882414056661265\n",
      "1024 0.9970649738141432\n"
     ]
    }
   ],
   "source": [
    "# example of CIFAR-100\n",
    "\n",
    "C = 100\n",
    "ps = []\n",
    "ns = []\n",
    "\n",
    "for N in 128 * np.arange(1, 9):\n",
    "    p = np.sum(prob(C, N).T[1])\n",
    "    print(\"{:4d} {}\".format(N, p))\n",
    "    ps.append(p)\n",
    "    ns.append(N)"
   ]
  },
  {
   "cell_type": "markdown",
   "metadata": {},
   "source": [
    "## Simulation"
   ]
  },
  {
   "cell_type": "code",
   "execution_count": 8,
   "metadata": {},
   "outputs": [
    {
     "name": "stdout",
     "output_type": "stream",
     "text": [
      "128 0.0\n",
      "256 0.0\n",
      "384 0.13076923076923075\n",
      "512 0.5789473684210534\n",
      "640 0.8733333333333351\n",
      "768 0.984615384615382\n",
      "896 0.9999999999999972\n",
      "1024 0.9999999999999984\n"
     ]
    }
   ],
   "source": [
    "n_loop = 10\n",
    "\n",
    "rnd = np.random.RandomState(7)\n",
    "labels = np.arange(C).repeat(100)\n",
    "\n",
    "results = {}\n",
    "\n",
    "for N in ns:\n",
    "\n",
    "    num_iters = int(len(labels) / N)\n",
    "    total_samples_for_bounds = float(num_iters * N * (n_loop))\n",
    "\n",
    "    for _ in range(n_loop):\n",
    "        rnd.shuffle(labels)\n",
    "\n",
    "        for batch_id in range(len(labels) // N):\n",
    "\n",
    "            if len(set(labels[N * batch_id:N * (batch_id + 1)])) == C:\n",
    "\n",
    "                results[N] = results.get(N, 0.) + N / total_samples_for_bounds\n",
    "            else:\n",
    "                results[N] = results.get(N, 0.) + 0.\n",
    "\n",
    "xs = []\n",
    "ys = []\n",
    "for k, v in results.items():\n",
    "    print(k, v)\n",
    "    ys.append(v)\n",
    "    xs.append(k)\n",
    "\n"
   ]
  },
  {
   "cell_type": "code",
   "execution_count": 9,
   "metadata": {},
   "outputs": [
    {
     "data": {
      "text/plain": [
       "<matplotlib.legend.Legend at 0x7fbec05b9070>"
      ]
     },
     "execution_count": 9,
     "metadata": {},
     "output_type": "execute_result"
    },
    {
     "data": {
      "image/png": "[encoded data removed]",
      "text/plain": [
       "<Figure size 432x288 with 1 Axes>"
      ]
     },
     "metadata": {
      "needs_background": "light"
     },
     "output_type": "display_data"
    }
   ],
   "source": [
    "plt.plot(ns, ps, label=\"Theoretical\")\n",
    "plt.plot(xs, ys, label=\"Empirical\")\n",
    "plt.ylabel(\"probability\")\n",
    "plt.xlabel(\"$K+1$\")\n",
    "plt.title(\"CIFAR-100 simulation\")\n",
    "plt.legend()"
   ]
  },
  {
   "cell_type": "code",
   "execution_count": null,
   "metadata": {},
   "outputs": [],
   "source": []
  }
 ],
 "metadata": {
  "@webio": {
   "lastCommId": null,
   "lastKernelId": null
  },
  "kernelspec": {
   "display_name": "Python 3 (ipykernel)",
   "language": "python",
   "name": "python3"
  },
  "language_info": {
   "codemirror_mode": {
    "name": "ipython",
    "version": 3
   },
   "file_extension": ".py",
   "mimetype": "text/x-python",
   "name": "python",
   "nbconvert_exporter": "python",
   "pygments_lexer": "ipython3",
   "version": "3.8.11"
  }
 },
 "nbformat": 4,
 "nbformat_minor": 4
}
